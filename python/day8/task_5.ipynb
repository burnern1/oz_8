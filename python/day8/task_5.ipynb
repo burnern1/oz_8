{
 "cells": [
  {
   "cell_type": "markdown",
   "metadata": {},
   "source": [
    "[문제]\n",
    "\n",
    "'Account' 클래스를 작성하세요. \n",
    "\n",
    "이 클래스는 소유자(owner)와 잔액(balance)을 속성으로 가지며, 잔액은 프라이빗 변수로 선언합니다. \n",
    "\n",
    "'deposit'와 'withdraw' 두 개의 메소드를 통해 잔액을 조작할 수 있도록 하세요. \n",
    "\n",
    "이 때, 잔액은 음수가 될 수 없도록 체크해야 합니다. 'Account' 객체를 생성하고,<br>\n",
    "입금 및 출금 작업을 시뮬레이션한 후, 최종 잔액을 출력하세요."
   ]
  },
  {
   "cell_type": "code",
   "execution_count": 7,
   "metadata": {},
   "outputs": [
    {
     "name": "stdout",
     "output_type": "stream",
     "text": [
      "50000원 입급되었습니다. 현재 잔액은 150000원 입니다.\n",
      "30000원 출금되었습니다. 현재 잔액은 120000원 입니다.\n",
      "잔액 부족으로 출금이 불가합니다.\n",
      "최종 잔액: 120000원\n"
     ]
    }
   ],
   "source": [
    "class Account():\n",
    "    def __init__(self, owner, balance):\n",
    "        self.owner = owner\n",
    "        self.__balance = balance\n",
    "\n",
    "    def deposit(self, amount): # 입금 기능 함수\n",
    "        if amount > 0:\n",
    "            self.__balance += amount\n",
    "            print(f\"{amount}원 입급되었습니다. 현재 잔액은 {self.__balance}원 입니다.\")\n",
    "        else:\n",
    "            print(\"입금 금액은 0보다 커야합니다.\")\n",
    "        \n",
    "    def withdraw(self, amount): # 출금 기능 함수\n",
    "        if amount > self.__balance:\n",
    "            print(\"잔액 부족으로 출금이 불가합니다.\")\n",
    "        elif amount <= 0:\n",
    "            print(\"출금 금액은 0보다 커야 합니다.\")\n",
    "        else:\n",
    "            self.__balance -= amount \n",
    "            print(f\"{amount}원 출금되었습니다. 현재 잔액은 {self.__balance}원 입니다.\")\n",
    "    \n",
    "    def get_balance(self): # 잔액 반환 함수\n",
    "        return self.__balance\n",
    "\n",
    "account = Account(\"홍길동\", 100000)\n",
    "\n",
    "account.deposit(50000)\n",
    "account.withdraw(30000)  \n",
    "account.withdraw(200000)\n",
    "\n",
    "final_balance = account.get_balance()\n",
    "print(f\"최종 잔액: {final_balance}원\")"
   ]
  },
  {
   "cell_type": "code",
   "execution_count": null,
   "metadata": {},
   "outputs": [],
   "source": []
  }
 ],
 "metadata": {
  "kernelspec": {
   "display_name": "Python 3",
   "language": "python",
   "name": "python3"
  },
  "language_info": {
   "codemirror_mode": {
    "name": "ipython",
    "version": 3
   },
   "file_extension": ".py",
   "mimetype": "text/x-python",
   "name": "python",
   "nbconvert_exporter": "python",
   "pygments_lexer": "ipython3",
   "version": "3.9.6"
  }
 },
 "nbformat": 4,
 "nbformat_minor": 2
}
