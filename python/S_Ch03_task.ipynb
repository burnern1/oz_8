{
 "cells": [
  {
   "cell_type": "markdown",
   "metadata": {},
   "source": [
    "<span style=\"font-size:100%\">\n",
    "\n",
    "수업은 모두 열심히 들으셨나요?\n",
    "\n",
    "간혹 강의에서 언급되지 않은 내용이 문제로 나올 수 있습니다.<br>\n",
    "그럴땐 강의 내용 외 문제는 구글링을 통해 해결해주세요<br></span>\n",
    "<span style=\"font-size:80%\">\n",
    "(구글링 또한 개발자가 갖쳐야할 역량 중에 하나랍니다 😊)\n",
    "</span>\n",
    "\n",
    "---"
   ]
  },
  {
   "cell_type": "markdown",
   "metadata": {},
   "source": [
    "<span style=\"font-size:80%\">[문제1]<br><br></span>\n",
    "```주로 작성 중인 코드의 끝을 알리는 기호로 사용되며 파이썬에서 한 줄에 작성된 서로 다른 코드를 구분 지을 때 사용할 수 있는 기호를 골라주세요```\n",
    "\n",
    "1. ' , ' (쉼표)\n",
    "2. ' + ' (더하기 기호)\n",
    "3. ' ; ' (세미콜론)\n",
    "4. ' / ' (슬래시)"
   ]
  },
  {
   "cell_type": "markdown",
   "metadata": {},
   "source": [
    "<span style=\"color:red\">답변</span> :"
   ]
  },
  {
   "cell_type": "markdown",
   "metadata": {},
   "source": [
    "3. ' ; ' (세미콜론)"
   ]
  },
  {
   "cell_type": "markdown",
   "metadata": {},
   "source": [
    "----"
   ]
  },
  {
   "cell_type": "markdown",
   "metadata": {},
   "source": [
    "<span style=\"font-size:80%\">[문제2]<br><br></span>\n",
    "```Python의 PEP 8은 무엇인지 설명하고 PEP 8의 핵심적인 규칙을 1개 이상을 설명해주세요```"
   ]
  },
  {
   "cell_type": "markdown",
   "metadata": {},
   "source": [
    "<span style=\"color:red\">답변</span>"
   ]
  },
  {
   "cell_type": "markdown",
   "metadata": {},
   "source": [
    "### 정의:\n",
    "- PEP 8은 Python 코드의 스타일 가이드라인입니다. Python Enhancement Proposal의 일부로, 코드 작성 방식에 대한 권장사항을 제공합니다.\n",
    "### 목적:\n",
    "- 코드의 가독성과 일관성을 향상시키기 위해 만들어졌습니다.\n",
    "### 주요 규칙:\n",
    "- 들여쓰기: 4개의 공백 사용\n",
    "- 최대 줄 길이: 79자\n",
    "- 명명 규칙:\n",
    "    - 함수, 변수: lowercase_with_underscores\n",
    "    - 클래스: CapitalizedWords\n",
    "    - 상수: ALL_CAPS\n",
    "- 공백 사용: 연산자 주위와 쉼표 뒤에 사용\n",
    "### 장점:\n",
    "- 코드 가독성 향상\n",
    "- 협업 용이성 증가\n",
    "- 일관성 유지로 유지보수 편의성 증대"
   ]
  },
  {
   "cell_type": "markdown",
   "metadata": {},
   "source": [
    "----"
   ]
  },
  {
   "cell_type": "markdown",
   "metadata": {},
   "source": [
    "<span style=\"font-size:80%\">[문제3]<br><br></span>\n",
    "```Python에서 \"#\"이 의마하는 것은 무엇인지 설명해주세요```"
   ]
  },
  {
   "cell_type": "markdown",
   "metadata": {},
   "source": [
    "<span style=\"color:red\">답변</span>"
   ]
  },
  {
   "cell_type": "markdown",
   "metadata": {},
   "source": [
    "뒤의 코드나 설명, 문자 등을 주석처리한다는 의미"
   ]
  },
  {
   "cell_type": "markdown",
   "metadata": {},
   "source": [
    "----"
   ]
  },
  {
   "cell_type": "markdown",
   "metadata": {},
   "source": [
    "<span style=\"font-size:80%\">[문제4]<br><br></span>\n",
    "```Python의 들여쓰기 장점과 기능에 대해 설명해주세요```"
   ]
  },
  {
   "cell_type": "markdown",
   "metadata": {},
   "source": [
    "<span style=\"color:red\">답변</span>"
   ]
  },
  {
   "cell_type": "markdown",
   "metadata": {},
   "source": [
    "### 코드 구조의 시각화\n",
    "- 들여쓰기는 코드의 논리적 구조를 시각적으로 명확하게 표현합니다.\n",
    "- 코드 블록의 시작과 끝을 쉽게 식별할 수 있어 가독성이 향상됩니다.\n",
    "### 문법적 의미\n",
    "- Python에서 들여쓰기는 단순한 스타일이 아닌 문법의 일부입니다.\n",
    "- 코드 블록(예: 함수, 루프, 조건문)의 범위를 정의합니다.\n",
    "### 일관성 강제\n",
    "- 모든 Python 개발자가 유사한 스타일로 코드를 작성하도록 유도합니다.\n",
    "- 이는 팀 프로젝트에서 코드의 일관성을 유지하는 데 도움이 됩니다.\n",
    "### 오류 감소\n",
    "- 잘못된 들여쓰기는 구문 오류를 발생시켜 잠재적인 논리 오류를 방지합니다.\n",
    "- 이는 코드의 의도를 명확히 하고 버그를 줄이는 데 기여합니다.\n",
    "### 간결성\n",
    "- 중괄호나 키워드로 블록을 표시하는 다른 언어들과 달리, 들여쓰기만으로 코드 구조를 나타냅니다.\n",
    "- 이로 인해 코드가 더 간결해지고 불필요한 문자를 줄일 수 있습니다.\n",
    "### 가독성 향상\n",
    "- 적절한 들여쓰기는 코드의 흐름을 쉽게 파악할 수 있게 해줍니다.\n",
    "- 특히 중첩된 구조에서 각 레벨의 관계를 명확히 보여줍니다.\n",
    "### 강제적 구조화\n",
    "- 개발자가 코드를 논리적으로 구조화하도록 강제합니다.\n",
    "- 이는 더 체계적이고 모듈화된 코드 작성을 장려합니다."
   ]
  },
  {
   "cell_type": "markdown",
   "metadata": {},
   "source": [
    "----"
   ]
  },
  {
   "cell_type": "markdown",
   "metadata": {},
   "source": [
    "<span style=\"font-size:80%\">[문제5]<br><br></span>\n",
    "```print( )문의 기능 및 특징에 대해 설명해주세요```"
   ]
  },
  {
   "cell_type": "markdown",
   "metadata": {},
   "source": [
    "<span style=\"color:red\">답변</span>"
   ]
  },
  {
   "cell_type": "markdown",
   "metadata": {},
   "source": [
    "### 기본 출력 기능\n",
    "- 콘솔에 텍스트나 변수의 값을 출력합니다.\n",
    "- 예: print(\"Hello, World!\")\n",
    "### 다중 인자 지원\n",
    "- 쉼표로 구분하여 여러 항목을 동시에 출력할 수 있습니다.\n",
    "- 예: print(\"Name:\", name, \"Age:\", age)\n",
    "### 자동 형변환\n",
    "- 다양한 데이터 타입을 문자열로 자동 변환하여 출력합니다.\n",
    "- 예: print(\"Value:\", 42, \"is\", True)\n",
    "### end 매개변수\n",
    "- 출력 끝에 추가할 문자를 지정할 수 있습니다. 기본값은 줄바꿈(\\n)입니다.\n",
    "- 예: print(\"Hello\", end=\" \"); print(\"World\")\n",
    "### sep 매개변수\n",
    "- 여러 인자 사이에 삽입할 구분자를 지정할 수 있습니다. 기본값은 공백입니다.\n",
    "- 예: print(\"Apple\", \"Banana\", \"Cherry\", sep=\", \")\n",
    "### file 매개변수\n",
    "- 출력을 다른 파일이나 스트림으로 리다이렉트할 수 있습니다.\n",
    "- 예: print(\"Log message\", file=open(\"log.txt\", \"a\"))\n",
    "### 포맷팅 지원\n",
    "- f-문자열이나 format() 메서드를 사용한 문자열 포맷팅을 지원합니다.\n",
    "- 예: print(f\"Name: {name}, Age: {age}\")\n",
    "### 이스케이프 시퀀스 해석\n",
    "- \\n, \\t 등의 이스케이프 시퀀스를 해석하여 출력합니다.\n",
    "- 예: print(\"First line\\nSecond line\")\n",
    "### 객체의 문자열 표현 출력\n",
    "- 객체의 str() 또는 repr() 메서드를 호출하여 출력합니다.\n",
    "- 예: print(some_object)\n",
    "### 버퍼링\n",
    "- 기본적으로 출력을 버퍼링하지만, sys.stdout.flush()를 사용하여 즉시 출력을 강제할 수 있습니다."
   ]
  }
 ],
 "metadata": {
  "language_info": {
   "name": "python"
  }
 },
 "nbformat": 4,
 "nbformat_minor": 2
}
