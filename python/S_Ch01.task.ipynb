{
 "cells": [
  {
   "cell_type": "markdown",
   "metadata": {},
   "source": [
    "<span style=\"font-size:100%\">\n",
    "\n",
    "수업은 모두 열심히 들으셨나요?   \n",
    "\n",
    "간혹 강의에서 언급되지 않은 내용이 문제로 나올 수 있습니다.<br>\n",
    "그럴땐 강의 내용 외 문제는 구글링을 통해 해결해주세요<br></span>\n",
    "<span style=\"font-size:80%\">\n",
    "(구글링 또한 개발자가 갖쳐야할 역량 중에 하나랍니다 😊)\n",
    "</span>\n",
    "\n",
    "---"
   ]
  },
  {
   "cell_type": "markdown",
   "metadata": {},
   "source": [
    "<span style=\"font-size:80%\">[문제1]<br><br></span>\n",
    "```인터프리트 방식에 대해 설명하고 2개 이상의 장점을 설명해주세요```"
   ]
  },
  {
   "cell_type": "markdown",
   "metadata": {},
   "source": [
    "<span style=\"color:red\">답변</span>"
   ]
  },
  {
   "cell_type": "markdown",
   "metadata": {},
   "source": [
    "소스 코드를 한 줄씩 읽어 해석하고 즉시 실행하는 방식.\n",
    "\n",
    "1. 즉각적인 실행과 디버깅\n",
    "    - 개발 과정에서 빠른 피드백을 받을 수 있게 해주며, 디버깅이 용이함. 오류가 발생한 경우 즉시 해당 라인에서 실행이 중단되므로, 문제를 빠르게 식별하고 수정할 수 있다.\n",
    "2. 플랫폼 독립성과 높은 이식성\n",
    "    - 소스 코드가 실행 시점에 해석되기 때문에, 다른 운영 체제나 하드웨어 환경에서도 별도의 수정 없이 실행될 수 있음. \"한 번 작성하면 어디서나 실행가능(Write Once, Run Anywhere)\"한 특성을 제공함\n",
    "3. 메모리 효율성\n",
    "    - 프로그램 실행에 필요한 부분만 메모리에 로드하므로 전체 프로그램을 한 번에 메모리에 로드하는 컴파일러 방식에 비해 메모리 사용이 효율적일 수 있음. 특히 리소스가 제한된 환경에서 유용할 수 있음.\n",
    "4. 동적 타이핑 지원\n",
    "    - 변수의 타입을 미리 선언할 필요 없음\n"
   ]
  },
  {
   "cell_type": "markdown",
   "metadata": {},
   "source": [
    "---"
   ]
  },
  {
   "cell_type": "markdown",
   "metadata": {},
   "source": [
    "<span style=\"font-size:80%\">[문제2]<br><br></span>\n",
    "```동적 타입 방식의 장점과 단점을 간략히 설명해주세요```"
   ]
  },
  {
   "cell_type": "markdown",
   "metadata": {},
   "source": [
    "<span style=\"color:red\">답변</span>"
   ]
  },
  {
   "cell_type": "markdown",
   "metadata": {},
   "source": [
    "장점 : 변수의 타입 변경이 유동적이며 쉬움, 유연한 코드 작성 가능\n",
    "\n",
    "단점 : 에러가 발생하면 정확한 이유를 찾기 어려워 코드가 길고 복잡해질수록 난이도가 상승함"
   ]
  },
  {
   "cell_type": "markdown",
   "metadata": {},
   "source": [
    "---"
   ]
  },
  {
   "cell_type": "markdown",
   "metadata": {},
   "source": [
    "<span style=\"font-size:80%\">[문제3]<br><br></span>\n",
    "```Python으로 정적타입 방식의 코드를 작성할 수 있는 방법을 구글링을 통해 검색 후 설명해주세요```"
   ]
  },
  {
   "cell_type": "markdown",
   "metadata": {},
   "source": [
    "<span style=\"color:red\">답변</span>"
   ]
  },
  {
   "cell_type": "markdown",
   "metadata": {},
   "source": [
    "## 타입 힌트(Type Hints) 사용\n",
    "- 타입 힌트는 Python 3.5부터 도입된 기능으로, 변수, 함수 매개변수, 반환값 등에 타입을 명시할 수 있게 해줍니다. 이를 통해 코드의 가독성을 높이고 잠재적인 타입 관련 오류를 미리 발견할 수 있습니다.\n",
    "\n",
    "## typing 모듈 활용\n",
    "- ython의 내장 모듈인 typing을 사용하면 더 복잡한 타입 힌트를 제공할 수 있습니다. List, Dict, Tuple 등의 컨테이너 타입이나 Union, Optional 같은 복합 타입을 정의할 수 있어 더 정확한 타입 명세가 가능합니다.\n",
    "\n",
    "## 타입 체커 사용\n",
    "- mypy, pyright, pytype 등의 타입 체커를 사용하여 작성한 타입 힌트가 올바른지 검증할 수 있습니다. 이 도구들은 코드를 실행하지 않고도 타입 관련 오류를 찾아낼 수 있어 개발 과정에서 유용합니다.\n",
    "\n",
    "## IDE 통합\n",
    "- PyCharm, Visual Studio Code 등 많은 현대적인 IDE들은 타입 힌트를 지원하고, 실시간으로 타입 체크를 수행할 수 있습니다. 이를 통해 코드 작성 중에 즉각적인 피드백을 받을 수 있습니다.\n",
    "\n",
    "## 제네릭 프로그래밍\n",
    "- typing 모듈의 TypeVar를 사용하여 제네릭 타입을 정의할 수 있습니다. 이를 통해 다양한 타입에 대해 재사용 가능한 코드를 작성할 수 있으며, 동시에 타입 안정성을 유지할 수 있습니다.\n"
   ]
  },
  {
   "cell_type": "markdown",
   "metadata": {},
   "source": [
    "---"
   ]
  },
  {
   "cell_type": "markdown",
   "metadata": {},
   "source": [
    "<span style=\"font-size:80%\">[문제4]<br><br></span>\n",
    "```프로세스와 스레드의 차이점을 설명해주세요```"
   ]
  },
  {
   "cell_type": "markdown",
   "metadata": {},
   "source": [
    "<span style=\"color:red\">답변</span>"
   ]
  },
  {
   "cell_type": "markdown",
   "metadata": {},
   "source": [
    "### 정의\n",
    "- 프로세스: 실행 중인 프로그램의 인스턴스로, 독립적인 실행 단위입니다.\n",
    "- 스레드: 프로세스 내에서 실행되는 더 작은 실행 단위입니다.\n",
    "\n",
    "### 메모리 공유\n",
    "- 프로세스: 각 프로세스는 독립적인 메모리 공간을 가집니다.\n",
    "- 스레드: 같은 프로세스 내의 스레드들은 메모리 공간을 공유합니다1.\n",
    "\n",
    "### 자원 사용\n",
    "- 프로세스: 각 프로세스는 독립적인 자원을 할당받습니다.\n",
    "- 스레드: 스레드는 프로세스의 자원을 공유하여 사용합니다3.\n",
    "\n",
    "### 생성 및 종료 시간\n",
    "- 프로세스: 생성과 종료에 많은 시간이 소요됩니다.\n",
    "- 스레드: 생성과 종료가 프로세스보다 빠릅니다.\n",
    "\n",
    "### 컨텍스트 스위칭\n",
    "- 프로세스: 컨텍스트 스위칭에 많은 비용이 듭니다.\n",
    "- 스레드: 프로세스보다 컨텍스트 스위칭 비용이 적습니다.\n",
    "\n",
    "### 통신 방식\n",
    "- 프로세스: IPC(Inter-Process Communication)를 사용하여 통신합니다.\n",
    "- 스레드: 공유 메모리를 통해 직접 통신이 가능합니다.\n",
    "\n",
    "### 안정성\n",
    "- 프로세스: 하나의 프로세스가 중단되어도 다른 프로세스에 영향을 주지 않습니다.\n",
    "- 스레드: 하나의 스레드에 문제가 생기면 같은 프로세스 내의 다른 스레드들도 영향을 받을 수 있습니다.\n",
    "\n",
    "### 제어\n",
    "- 프로세스: 운영체제에 의해 직접 제어됩니다.\n",
    "- 스레드: 프로세스 내에서 관리되며, 외부에서 직접 제어할 수 없습니다"
   ]
  },
  {
   "cell_type": "markdown",
   "metadata": {},
   "source": [
    "---"
   ]
  },
  {
   "cell_type": "markdown",
   "metadata": {},
   "source": [
    "<span style=\"font-size:80%\">[문제5]<br><br></span>\n",
    "```Python 2버전대와 3버전대의 차이를 성명해주세요```"
   ]
  },
  {
   "cell_type": "markdown",
   "metadata": {},
   "source": [
    "<span style=\"color:red\">답변</span>"
   ]
  },
  {
   "cell_type": "markdown",
   "metadata": {},
   "source": [
    "### print 문법\n",
    "- Python 2: print 문을 사용 (예: print \"Hello\")\n",
    "- Python 3: print() 함수를 사용 (예: print(\"Hello\"))\n",
    "\n",
    "### 정수 나눗셈\n",
    "- Python 2: 정수 나눗셈 시 결과가 정수로 반환 (예: 3/2 = 1)\n",
    "- Python 3: 정수 나눗셈 시 결과가 부동소수점으로 반환 (예: 3/2 = 1.5)\n",
    "\n",
    "### 문자열 처리\n",
    "- Python 2: 기본적으로 ASCII 인코딩 사용\n",
    "- Python 3: 기본적으로 Unicode(UTF-8) 인코딩 사용\n",
    "\n",
    "### 예외 처리 구문\n",
    "- Python 2: except ExceptionType, variable 형식 사용\n",
    "- Python 3: except ExceptionType as variable 형식 사용\n",
    "\n",
    "### input() 함수\n",
    "- Python 2: raw_input() 함수 사용\n",
    "- Python 3: input() 함수 사용\n",
    "\n",
    "### range() 함수\n",
    "- Python 2: range()는 리스트 반환, xrange()는 제너레이터 반환\n",
    "- Python 3: range()가 제너레이터 역할을 하며 xrange()는 제거됨\n",
    "\n",
    "### 변수 범위\n",
    "- Python 2: 리스트 컴프리헨션에서 변수가 외부 범위로 누출됨\n",
    "- Python 3: 리스트 컴프리헨션에서 변수가 자체 범위 내에 유지됨\n",
    "\n",
    "### 하위 호환성\n",
    "- Python 3는 Python 2와 하위 호환성이 없어 기존 Python 2 코드의 수정이 필요할 수 있음\n",
    "\n",
    "### 라이브러리 지원\n",
    "- Python 3는 최신 라이브러리와 기능을 지원하며, 대부분의 주요 라이브러리가 Python 3로 이전됨\n",
    "\n",
    "### 성능 개선\n",
    "- Python 3는 전반적으로 성능이 개선되었으며, 특히 문자열 처리와 멀티스레딩 부분에서 향상됨"
   ]
  },
  {
   "cell_type": "markdown",
   "metadata": {},
   "source": [
    "---"
   ]
  },
  {
   "cell_type": "markdown",
   "metadata": {},
   "source": [
    "<span style=\"font-size:80%\">[문제6]<br><br></span>\n",
    "```Python에서 메모리 관리는 어떻게 이루어지는지 설명해주세요```"
   ]
  },
  {
   "cell_type": "markdown",
   "metadata": {},
   "source": [
    "<span style=\"color:red\">답변</span>"
   ]
  },
  {
   "cell_type": "markdown",
   "metadata": {},
   "source": [
    "### 자동 메모리 관리\n",
    "- Python은 자동으로 메모리를 할당하고 해제합니다. 프로그래머가 직접 메모리를 관리할 필요가 없습니다.\n",
    "\n",
    "### 가비지 컬렉션\n",
    "- 사용하지 않는 객체를 자동으로 감지하고 메모리에서 제거하는 가비지 컬렉션 시스템을 사용합니다. 이는 참조 카운팅과 세대별 가비지 컬렉션을 조합하여 구현됩니다.\n",
    "\n",
    "### 참조 카운팅\n",
    "- 각 객체마다 참조 횟수를 추적하여, 참조 횟수가 0이 되면 해당 객체를 메모리에서 제거합니다.\n",
    "\n",
    "### 비공개 힙 메모리\n",
    "- 모든 Python 객체와 자료 구조는 비공개 힙 메모리에 저장됩니다. 이 메모리는 Python 프로세스에 독점적으로 할당됩니다.\n",
    "\n",
    "### 메모리 할당자 계층\n",
    "Python은 여러 계층의 메모리 할당자를 사용합니다:\n",
    "- 일반 목적 할당자 (malloc)\n",
    "- 원시 메모리 할당자\n",
    "- 객체 할당자 (512바이트 이하의 작은 객체용)\n",
    "- 객체별 할당자 (특정 타입의 객체를 위한 최적화된 할당자)\n",
    "\n",
    "### pymalloc 할당자\n",
    "- 작고 수명이 짧은 객체(512바이트 이하)를 위해 최적화된 할당자입니다. \n",
    "\n",
    "### 동적 메모리 할당\n",
    "- 프로그램 실행 중에 필요에 따라 메모리를 동적으로 할당하고 해제합니다.\n",
    "\n",
    "### 메모리 풀링\n",
    "- 자주 사용되는 객체들을 위한 메모리 풀을 유지하여 메모리 할당과 해제의 효율성을 높입니다."
   ]
  }
 ],
 "metadata": {
  "language_info": {
   "name": "python"
  }
 },
 "nbformat": 4,
 "nbformat_minor": 2
}
