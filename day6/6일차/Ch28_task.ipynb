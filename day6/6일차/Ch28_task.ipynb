{
 "cells": [
  {
   "cell_type": "markdown",
   "metadata": {},
   "source": [
    "사용자로부터 3개의 숫자를 입력받아, 이를 튜플로 만든 후 최소값과 최대값을 출력하는 함수 min_max를 작성하세요."
   ]
  },
  {
   "cell_type": "code",
   "execution_count": 1,
   "metadata": {},
   "outputs": [
    {
     "name": "stdout",
     "output_type": "stream",
     "text": [
      "Entered numbers: (1, 2, 3)\n",
      "Minimum: 1, Maximum: 3\n"
     ]
    },
    {
     "data": {
      "text/plain": [
       "((1, 2, 3), 1, 3)"
      ]
     },
     "execution_count": 1,
     "metadata": {},
     "output_type": "execute_result"
    }
   ],
   "source": [
    "def min_max():\n",
    "    # 사용자로부터 3개의 숫자 입력받아 튜플 생성\n",
    "    nums = tuple(int(input(f\"Enter number {i+1}: \")) for i in range(3))\n",
    "    \n",
    "    # 최소값과 최대값 계산\n",
    "    min_val = min(nums)\n",
    "    max_val = max(nums)\n",
    "    \n",
    "    # 결과 출력\n",
    "    print(f\"Entered numbers: {nums}\")\n",
    "    print(f\"Minimum: {min_val}, Maximum: {max_val}\")\n",
    "    \n",
    "    # 튜플, 최소값, 최대값 반환\n",
    "    return nums, min_val, max_val\n",
    "\n",
    "# 함수 호출 예시\n",
    "min_max()"
   ]
  },
  {
   "cell_type": "markdown",
   "metadata": {},
   "source": []
  }
 ],
 "metadata": {
  "kernelspec": {
   "display_name": "Python 3",
   "language": "python",
   "name": "python3"
  },
  "language_info": {
   "codemirror_mode": {
    "name": "ipython",
    "version": 3
   },
   "file_extension": ".py",
   "mimetype": "text/x-python",
   "name": "python",
   "nbconvert_exporter": "python",
   "pygments_lexer": "ipython3",
   "version": "3.9.6"
  }
 },
 "nbformat": 4,
 "nbformat_minor": 2
}
