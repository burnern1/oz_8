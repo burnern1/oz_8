{
 "cells": [
  {
   "cell_type": "markdown",
   "metadata": {
    "id": "BX7SgOeWu86I"
   },
   "source": [
    "안녕하세요. 수강생 여러분~! \n",
    "\n",
    "다시 돌아온 조금 더 성장할 기 ! 회 ! \n",
    "\n",
    "Chapter01 ~ 16의 수업 내용을 바탕으로 아래 문제를 풀어주시면 됩니다 !\n",
    "\n",
    "지금까지 잘 해오셨으니까, 총 복습한다고 생각하시고 한번 도전해보세요 !!!\n",
    "\n",
    "차근 차근 문제와 요구사항을 읽고 작성해보세요.\n",
    "\n",
    "<br>\n",
    "\n",
    "\n",
    "[**답변 입력 방법**]\n",
    "\n",
    "문제 아래에 있는 코드 입력창에 정답코드를 작성하신 후  __▷ 버튼을 클릭해 코드를 실행__ 해보세요<br>"
   ]
  },
  {
   "cell_type": "markdown",
   "metadata": {},
   "source": [
    "---"
   ]
  },
  {
   "cell_type": "markdown",
   "metadata": {},
   "source": [
    "#### 프로젝트: 붕어빵 자동 판매 시스템\n",
    "\n",
    "\n",
    "당신은 붕어빵 가게의 주인입니다. \n",
    "\n",
    "손님들이 붕어빵을 주문하면 이를 자동으로 처리하고, 재고를 관리하는 시스템을 만들고자 합니다. \n",
    "\n",
    "또한, 관리자 모드를 통해 재고를 추가할 수 있는 기능을 구현해야 합니다.\n"
   ]
  },
  {
   "cell_type": "markdown",
   "metadata": {},
   "source": [
    "__[문제 1: 붕어빵 재고 확인]__\n",
    "\n",
    "붕어빵 가게의 현재 재고를 확인하는 기능을 구현하세요.\n",
    "\n",
    "요구사항:\n",
    "- 현재 붕어빵의 재고를 딕셔너리로 관리합니다.\n",
    "- 딕셔너리에는 붕어빵의 종류와 각각의 재고 개수가 저장됩니다.\n",
    "- 현재 재고를 화면에 출력하세요.\n",
    "\n",
    "붕어빵 재고\n",
    "- 팥붕어빵 : 10개\n",
    "- 슈크림붕어빵 : 8개\n",
    "- 초코붕어빵 : 5개"
   ]
  },
  {
   "cell_type": "code",
   "execution_count": 9,
   "metadata": {},
   "outputs": [
    {
     "name": "stdout",
     "output_type": "stream",
     "text": [
      "{'팥붕': 10, '슈붕': 8, '초붕': 5}\n"
     ]
    }
   ],
   "source": [
    "stock = {\n",
    "    \"팥붕\" : 10,\n",
    "    \"슈붕\" : 8,\n",
    "    \"초붕\" : 5\n",
    "}\n",
    "print(stock)"
   ]
  },
  {
   "cell_type": "markdown",
   "metadata": {},
   "source": [
    "__[문제 2: 붕어빵 주문 받기]__\n",
    "\n",
    "손님이 주문한 붕어빵의 종류와 개수를 입력받는 기능을 구현하세요.\n",
    "\n",
    "요구사항:\n",
    "- 손님이 주문할 붕어빵의 종류와 개수를 입력받습니다.\n",
    "- 주문 내용을 딕셔너리에 저장하세요.\n",
    "- 주문 내역을 출력해주세요."
   ]
  },
  {
   "cell_type": "code",
   "execution_count": 10,
   "metadata": {},
   "outputs": [
    {
     "name": "stdout",
     "output_type": "stream",
     "text": [
      "주문 내역: {'팥붕': 3}\n"
     ]
    }
   ],
   "source": [
    "order = {}\n",
    "bread_type = input(\"주문할 붕어빵 종류를 입력하세요 (팥붕어빵, 슈크림붕어빵, 초코붕어빵): \")\n",
    "bread_count = int(input(\"주문할 붕어빵 개수를 입력하세요: \"))\n",
    "order[bread_type] = bread_count\n",
    "print(f\"주문 내역: {order}\")"
   ]
  },
  {
   "cell_type": "markdown",
   "metadata": {},
   "source": [
    "__[문제 3: 붕어빵 주문 처리]__\n",
    "\n",
    "손님의 주문을 처리하여 붕어빵 재고를 업데이트하는 기능을 구현하세요.\n",
    "\n",
    "요구사항:\n",
    "- 손님의 주문 내용을 기반으로 재고를 업데이트합니다.\n",
    "- 재고가 부족할 경우, 손님에게 재고 부족을 알리고 재고를 감소시키지 않습니다.\n",
    "- 재고가 충분할 경우, 주문한 만큼 재고를 감소시키고 판매를 완료합니다.\n",
    "- 판매가 완료된 경우 판매된 붕어빵 맛과 개수를 출력하세요."
   ]
  },
  {
   "cell_type": "code",
   "execution_count": 11,
   "metadata": {},
   "outputs": [
    {
     "name": "stdout",
     "output_type": "stream",
     "text": [
      "팥붕 3개를 판매했습니다.\n"
     ]
    }
   ],
   "source": [
    "if stock[bread_type] >= bread_count:\n",
    "    stock[bread_type] -= bread_count\n",
    "    print(f\"{bread_type} {bread_count}개를 판매했습니다.\")\n",
    "else:\n",
    "    print(f\"죄송합니다. {bread_type} 재고가 부족합니다.\")"
   ]
  },
  {
   "cell_type": "markdown",
   "metadata": {},
   "source": [
    "__[문제 4: 여러 손님 주문 처리]__\n",
    "\n",
    "여러 손님들의 주문을 처리할 수 있도록 시스템을 확장하세요.\n",
    "\n",
    "요구사항:\n",
    "- 손님이 \"종료\"를 입력할 때까지 주문을 계속 받습니다.\n",
    "- 각 주문마다 재고를 업데이트합니다.\n",
    "- 현재 재고를 화면에 출력합니다."
   ]
  },
  {
   "cell_type": "code",
   "execution_count": 12,
   "metadata": {},
   "outputs": [
    {
     "name": "stdout",
     "output_type": "stream",
     "text": [
      "팥붕 3개를 판매했습니다.\n",
      "현재 붕어빵 재고:\n",
      "팥붕: 4개\n",
      "슈붕: 8개\n",
      "초붕: 5개\n",
      "팥붕 3개를 판매했습니다.\n",
      "현재 붕어빵 재고:\n",
      "팥붕: 1개\n",
      "슈붕: 8개\n",
      "초붕: 5개\n"
     ]
    },
    {
     "ename": "ValueError",
     "evalue": "invalid literal for int() with base 10: ''",
     "output_type": "error",
     "traceback": [
      "\u001b[0;31m---------------------------------------------------------------------------\u001b[0m",
      "\u001b[0;31mValueError\u001b[0m                                Traceback (most recent call last)",
      "Cell \u001b[0;32mIn[12], line 5\u001b[0m\n\u001b[1;32m      3\u001b[0m \u001b[38;5;28;01mif\u001b[39;00m bread_type \u001b[38;5;241m==\u001b[39m \u001b[38;5;124m\"\u001b[39m\u001b[38;5;124m종료\u001b[39m\u001b[38;5;124m\"\u001b[39m:\n\u001b[1;32m      4\u001b[0m     \u001b[38;5;28;01mbreak\u001b[39;00m\n\u001b[0;32m----> 5\u001b[0m bread_count \u001b[38;5;241m=\u001b[39m \u001b[38;5;28;43mint\u001b[39;49m\u001b[43m(\u001b[49m\u001b[38;5;28;43minput\u001b[39;49m\u001b[43m(\u001b[49m\u001b[38;5;124;43m\"\u001b[39;49m\u001b[38;5;124;43m주문할 붕어빵 개수를 입력하세요: \u001b[39;49m\u001b[38;5;124;43m\"\u001b[39;49m\u001b[43m)\u001b[49m\u001b[43m)\u001b[49m\n\u001b[1;32m      7\u001b[0m \u001b[38;5;28;01mif\u001b[39;00m stock[bread_type] \u001b[38;5;241m>\u001b[39m\u001b[38;5;241m=\u001b[39m bread_count:\n\u001b[1;32m      8\u001b[0m     stock[bread_type] \u001b[38;5;241m-\u001b[39m\u001b[38;5;241m=\u001b[39m bread_count\n",
      "\u001b[0;31mValueError\u001b[0m: invalid literal for int() with base 10: ''"
     ]
    }
   ],
   "source": [
    "while True:\n",
    "    bread_type = input(\"주문할 붕어빵 종류를 입력하세요 (팥붕어빵, 슈크림붕어빵, 초코붕어빵). 종료를 원하시면 '종료'를 입력하세요: \")\n",
    "    if bread_type == \"종료\":\n",
    "        break\n",
    "    bread_count = int(input(\"주문할 붕어빵 개수를 입력하세요: \"))\n",
    "    \n",
    "    if stock[bread_type] >= bread_count:\n",
    "        stock[bread_type] -= bread_count\n",
    "        print(f\"{bread_type} {bread_count}개를 판매했습니다.\")\n",
    "    else:\n",
    "        print(f\"죄송합니다. {bread_type} 재고가 부족합니다.\")\n",
    "    \n",
    "    print(\"현재 붕어빵 재고:\")\n",
    "    for bread, quantity in stock.items():\n",
    "        print(f\"{bread}: {quantity}개\")"
   ]
  },
  {
   "cell_type": "markdown",
   "metadata": {},
   "source": [
    "__[문제 5: 관리자 모드]__\n",
    "\n",
    "관리자 모드를 통해 붕어빵 재고를 추가할 수 있는 기능을 구현하세요.\n",
    "\n",
    "요구사항:\n",
    "- 관리자는 특정 붕어빵의 재고를 추가할 수 있습니다.\n",
    "- \"종료\"를 입력하면 관리자 모드를 종료합니다.\n",
    "- 추가된 재고를 업데이트하고 현재 재고를 화면에 출력합니다."
   ]
  },
  {
   "cell_type": "code",
   "execution_count": null,
   "metadata": {},
   "outputs": [],
   "source": [
    "while True:\n",
    "    bread_type = input(\"추가할 붕어빵 종류를 입력하세요 (팥붕어빵, 슈크림붕어빵, 초코붕어빵). 종료를 원하시면 '종료'를 입력하세요: \")\n",
    "    if bread_type == \"종료\":\n",
    "        break\n",
    "    additional_stock = int(input(f\"{bread_type}의 추가할 개수를 입력하세요: \"))\n",
    "    stock[bread_type] += additional_stock\n",
    "    print(f\"{bread_type}의 재고가 {additional_stock}개 추가되었습니다.\")\n",
    "    print(\"현재 붕어빵 재고:\")\n",
    "    for bread, quantity in stock.items():\n",
    "        print(f\"{bread}: {quantity}개\")"
   ]
  },
  {
   "cell_type": "markdown",
   "metadata": {},
   "source": [
    "__[문제 6: 매출 확인]__\n",
    "\n",
    "붕어빵 판매 가격을 설정하고, 판매한 붕어빵의 매출을 계산하세요.\n",
    "\n",
    "요구사항:\n",
    "- 각 붕어빵의 가격을 딕셔너리로 관리합니다.\n",
    "- 판매된 붕어빵의 종류와 개수를 딕셔너리로 관리합니다.\n",
    "- 총 매출을 계산하여 출력합니다.\n",
    "\n",
    "초기 설정:\n",
    "- 가격\n",
    "    - \"팥붕어빵\": 1000\n",
    "    - \"슈크림붕어빵\": 1200\n",
    "    - \"초코붕어빵\": 1500\n",
    "\n",
    "- 판매 개수\n",
    "    - \"팥붕어빵\": 0\n",
    "    - \"슈크림붕어빵\": 0\n",
    "    - \"초코붕어빵\": 0"
   ]
  },
  {
   "cell_type": "code",
   "execution_count": null,
   "metadata": {},
   "outputs": [],
   "source": [
    "prices = {\n",
    "    \"팥붕어빵\": 1000,\n",
    "    \"슈크림붕어빵\": 1200,\n",
    "    \"초코붕어빵\": 1500\n",
    "}\n",
    "sales = {\n",
    "    \"팥붕어빵\": 0,\n",
    "    \"슈크림붕어빵\": 0,\n",
    "    \"초코붕어빵\": 0\n",
    "}\n",
    "\n",
    "total_sales = sum(sales[bread] * prices[bread] for bread in sales)\n",
    "print(f\"총 매출: {total_sales}원\")"
   ]
  },
  {
   "cell_type": "code",
   "execution_count": null,
   "metadata": {},
   "outputs": [],
   "source": [
    "#최종 코드\n",
    "# 초기 재고와 가격 설정\n",
    "stock = {\n",
    "    \"팥붕어빵\": 10,\n",
    "    \"슈크림붕어빵\": 8,\n",
    "    \"초코붕어빵\": 5\n",
    "}\n",
    "prices = {\n",
    "    \"팥붕어빵\": 1000,\n",
    "    \"슈크림붕어빵\": 1200,\n",
    "    \"초코붕어빵\": 1500\n",
    "}\n",
    "sales = {\n",
    "    \"팥붕어빵\": 0,\n",
    "    \"슈크림붕어빵\": 0,\n",
    "    \"초코붕어빵\": 0\n",
    "}\n",
    "\n",
    "while True:\n",
    "    mode = input(\"원하는 모드를 선택하세요 (주문, 관리자, 종료): \")\n",
    "    \n",
    "    if mode == \"종료\":\n",
    "        break\n",
    "    \n",
    "    if mode == \"관리자\":\n",
    "        while True:\n",
    "            bread_type = input(\"추가할 붕어빵 종류를 입력하세요 (팥붕어빵, 슈크림붕어빵, 초코붕어빵). 종료를 원하시면 '종료'를 입력하세요: \")\n",
    "            if bread_type == \"종료\":\n",
    "                break\n",
    "            additional_stock = int(input(f\"{bread_type}의 추가할 개수를 입력하세요: \"))\n",
    "            stock[bread_type] += additional_stock\n",
    "            print(f\"{bread_type}의 재고가 {additional_stock}개 추가되었습니다.\")\n",
    "            print(\"현재 붕어빵 재고:\")\n",
    "            for bread, quantity in stock.items():\n",
    "                print(f\"{bread}: {quantity}개\")\n",
    "        continue\n",
    "    \n",
    "    if mode == \"주문\":\n",
    "        while True:\n",
    "            bread_type = input(\"주문할 붕어빵 종류를 입력하세요 (팥붕어빵, 슈크림붕어빵, 초코붕어빵). 종료를 원하시면 '종료'를 입력하세요: \")\n",
    "            if bread_type == \"종료\":\n",
    "                break\n",
    "            bread_count = int(input(\"주문할 붕어빵 개수를 입력하세요: \"))\n",
    "            \n",
    "            if stock[bread_type] >= bread_count:\n",
    "                stock[bread_type] -= bread_count\n",
    "                sales[bread_type] += bread_count\n",
    "                print(f\"{bread_type} {bread_count}개를 판매했습니다.\")\n",
    "            else:\n",
    "                print(f\"죄송합니다. {bread_type} 재고가 부족합니다.\")\n",
    "            \n",
    "            print(\"현재 붕어빵 재고:\")\n",
    "            for bread, quantity in stock.items():\n",
    "                print(f\"{bread}: {quantity}개\")\n",
    "\n",
    "print(\"영업을 종료합니다.\")\n",
    "total_sales = sum(sales[bread] * prices[bread] for bread in sales)\n",
    "print(f\"총 매출: {total_sales}원\")\n",
    "print(\"모든 거래 내역:\")\n",
    "print('\\n'.join([f\"{bread} 판매: {sales[bread]}개, 매출: {sales[bread] * prices[bread]}원\" for bread in sales]))"
   ]
  }
 ],
 "metadata": {
  "colab": {
   "authorship_tag": "ABX9TyMLQjyUmELFyKkx1AyovOFZ",
   "provenance": []
  },
  "kernelspec": {
   "display_name": "Python 3",
   "name": "python3"
  },
  "language_info": {
   "codemirror_mode": {
    "name": "ipython",
    "version": 3
   },
   "file_extension": ".py",
   "mimetype": "text/x-python",
   "name": "python",
   "nbconvert_exporter": "python",
   "pygments_lexer": "ipython3",
   "version": "3.9.6"
  }
 },
 "nbformat": 4,
 "nbformat_minor": 0
}
